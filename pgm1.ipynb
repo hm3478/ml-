{
 "cells": [
  {
   "cell_type": "code",
   "execution_count": 9,
   "id": "3c5ef5b1",
   "metadata": {},
   "outputs": [
    {
     "name": "stdout",
     "output_type": "stream",
     "text": [
      "The +ve examples are:\n",
      "['Sunny', 'Warm', 'Normal', 'Strong', 'Warm', 'Same', 'Yes']\n",
      "['Sunny', 'Warm', 'High', 'Strong', 'Warm', 'Same', 'Yes']\n",
      "['Sunny', 'Warm', 'High', 'Strong', 'Cool', 'Change', 'Yes']\n",
      "\n",
      "The steps of Find-S Algo are:\n",
      "['Sunny', 'Warm', '?', 'Strong', 'Warm', 'Same']\n",
      "['Sunny', 'Warm', '?', 'Strong', 'Warm', 'Same']\n",
      "['Sunny', 'Warm', '?', 'Strong', '?', 'Same']\n",
      "['Sunny', 'Warm', '?', 'Strong', '?', '?']\n",
      "\n",
      "Final specific hypothesis:\n",
      " ['Sunny', 'Warm', '?', 'Strong', '?', '?']\n"
     ]
    }
   ],
   "source": [
    "import csv\n",
    "\n",
    "h=['0'for i in range(6)] \n",
    "with open(r\"C:\\Users\\hp\\OneDrive\\Desktop\\training data.csv\") as f: \n",
    "    data=csv.reader(f) \n",
    "    data=list(data)\n",
    "\n",
    "print(\"The +ve examples are:\")\n",
    "for i in data:\n",
    "    if i[-1]==\"Yes\":\n",
    "        print(i)\n",
    " \n",
    "print(\"\\nThe steps of Find-S Algo are:\")\n",
    "for i in data:\n",
    "    if i[-1]==\"Yes\":\n",
    "        for j in range(6):\n",
    "            if h[j]=='0':\n",
    "                h[j]=i[j]\n",
    "            elif h[j]!=i[j]:\n",
    "                h[j]='?'\n",
    "                print(h)\n",
    "\n",
    "print(\"\\nFinal specific hypothesis:\\n\",h)\n"
   ]
  },
  {
   "cell_type": "code",
   "execution_count": null,
   "id": "6c32fd64",
   "metadata": {},
   "outputs": [],
   "source": []
  }
 ],
 "metadata": {
  "kernelspec": {
   "display_name": "Python 3 (ipykernel)",
   "language": "python",
   "name": "python3"
  },
  "language_info": {
   "codemirror_mode": {
    "name": "ipython",
    "version": 3
   },
   "file_extension": ".py",
   "mimetype": "text/x-python",
   "name": "python",
   "nbconvert_exporter": "python",
   "pygments_lexer": "ipython3",
   "version": "3.9.7"
  }
 },
 "nbformat": 4,
 "nbformat_minor": 5
}
